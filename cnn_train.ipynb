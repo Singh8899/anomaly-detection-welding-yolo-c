{
 "cells": [
  {
   "cell_type": "markdown",
   "metadata": {},
   "source": [
    "# Welding Anomaly Detection with ResNet-50 Binary Classifier\n",
    "\n",
    "This notebook demonstrates a complete pipeline for welding anomaly detection using:\n",
    "1. **YOLO** for weld region detection\n",
    "2. **ResNet-50** fine-tuned as a binary classifier for good/bad weld classification\n",
    "\n",
    "## Data Split Strategy\n",
    "- **Training Set**: Used for model training and parameter updates\n",
    "- **Validation Set**: Used for model selection (early stopping) AND final evaluation\n",
    "- **No Test Set**: Validation set serves dual purpose for simplicity\n",
    "\n",
    "## Pipeline Overview\n",
    "- Extract weld ROIs from images using XML annotations\n",
    "- Create a balanced dataset with proper train/val splits  \n",
    "- Fine-tune ResNet-50 with careful data preprocessing and augmentation\n",
    "- Evaluate using ROC-AUC, PR-AUC, and F1 metrics on validation set\n",
    "\n",
    "⚠️ **Note**: In production, consider using a separate test set for unbiased final evaluation."
   ]
  },
  {
   "cell_type": "code",
   "execution_count": null,
   "metadata": {},
   "outputs": [],
   "source": [
    "!pip install -r requirements.txt"
   ]
  },
  {
   "cell_type": "code",
   "execution_count": null,
   "metadata": {},
   "outputs": [],
   "source": [
    "import torch\n",
    "from pathlib import Path\n",
    "print(f\"CUDA available: {torch.cuda.is_available()}\")\n",
    "if torch.cuda.is_available():\n",
    "    print(f\"GPU: {torch.cuda.get_device_name(0)}\")\n",
    "    print(f\"CUDA version: {torch.version.cuda}\")\n",
    "else:\n",
    "    print(\"Using CPU\")"
   ]
  },
  {
   "cell_type": "code",
   "execution_count": null,
   "metadata": {},
   "outputs": [],
   "source": [
    "!python cnn_train/yolo/dataset_formatter.py"
   ]
  },
  {
   "cell_type": "code",
   "execution_count": null,
   "metadata": {},
   "outputs": [],
   "source": [
    "!python cnn_train/yolo/yolo_train.py"
   ]
  },
  {
   "cell_type": "code",
   "execution_count": null,
   "metadata": {},
   "outputs": [],
   "source": [
    "# Check if we have the required data structure\n",
    "base_dir = Path('/teamspace/studios/this_studio')\n",
    "train_dir = base_dir / 'downloaded_photos' / 'train'\n",
    "val_dir = base_dir / 'downloaded_photos' / 'val'\n",
    "\n",
    "if train_dir.exists():\n",
    "    train_images = list(train_dir.glob('*.jpeg')) + list(train_dir.glob('*.jpg'))\n",
    "    train_xmls = list(train_dir.glob('*.xml'))\n",
    "    print(f\"Training images: {len(train_images)}\")\n",
    "    print(f\"Training XMLs: {len(train_xmls)}\")\n",
    "\n",
    "if val_dir.exists():\n",
    "    val_images = list(val_dir.glob('*.jpeg')) + list(val_dir.glob('*.jpg'))\n",
    "    val_xmls = list(val_dir.glob('*.xml'))\n",
    "    print(f\"Validation images: {len(val_images)}\")\n",
    "    print(f\"Validation XMLs: {len(val_xmls)}\")\n",
    "\n",
    "\n",
    "# Run the weld extraction script\n",
    "!python cnn_train/cnn/extract_welds.py"
   ]
  },
  {
   "cell_type": "code",
   "execution_count": null,
   "metadata": {},
   "outputs": [],
   "source": [
    "# Step 3: Train ResNet-50 Binary Classifier\n",
    "!python cnn_train/cnn/welding_cnn.py --mode \"train\""
   ]
  },
  {
   "cell_type": "code",
   "execution_count": null,
   "metadata": {},
   "outputs": [],
   "source": [
    "!python cnn_train/cnn/welding_cnn.py --mode \"val\""
   ]
  }
 ],
 "metadata": {
  "language_info": {
   "name": "python"
  }
 },
 "nbformat": 4,
 "nbformat_minor": 2
}
