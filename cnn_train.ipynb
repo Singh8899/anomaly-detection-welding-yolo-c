{
 "cells": [
  {
   "cell_type": "markdown",
   "metadata": {},
   "source": [
    "# Welding Anomaly Detection with ResNet-50 Binary Classifier\n",
    "\n",
    "This notebook demonstrates a complete pipeline for welding anomaly detection using:\n",
    "1. **YOLO** for weld region detection\n",
    "2. **ResNet-50** fine-tuned as a binary classifier for good/bad weld classification\n",
    "\n",
    "## Data Split Strategy\n",
    "- **Training Set**: Used for model training and parameter updates\n",
    "- **Validation Set**: Used for model selection (early stopping) AND final evaluation\n",
    "- **No Test Set**: Validation set serves dual purpose for simplicity\n",
    "\n",
    "## Pipeline Overview\n",
    "- Extract weld ROIs from images using XML annotations\n",
    "- Create a balanced dataset with proper train/val splits  \n",
    "- Fine-tune ResNet-50 with careful data preprocessing and augmentation\n",
    "- Evaluate using ROC-AUC, PR-AUC, and F1 metrics on validation set\n",
    "\n",
    "⚠️ **Note**: In production, consider using a separate test set for unbiased final evaluation."
   ]
  },
  {
   "cell_type": "code",
   "execution_count": null,
   "metadata": {},
   "outputs": [],
   "source": [
    "!pip install -r cnn_train/requirements.txt"
   ]
  },
  {
   "cell_type": "code",
   "execution_count": 1,
   "metadata": {},
   "outputs": [
    {
     "name": "stdout",
     "output_type": "stream",
     "text": [
      "CUDA available: True\n",
      "GPU: NVIDIA L4\n",
      "CUDA version: 12.1\n"
     ]
    }
   ],
   "source": [
    "import torch\n",
    "from pathlib import Path\n",
    "print(f\"CUDA available: {torch.cuda.is_available()}\")\n",
    "if torch.cuda.is_available():\n",
    "    print(f\"GPU: {torch.cuda.get_device_name(0)}\")\n",
    "    print(f\"CUDA version: {torch.version.cuda}\")\n",
    "else:\n",
    "    print(\"Using CPU\")"
   ]
  },
  {
   "cell_type": "code",
   "execution_count": null,
   "metadata": {},
   "outputs": [],
   "source": [
    "!python cnn_train/yolo/dataset_formatter.py"
   ]
  },
  {
   "cell_type": "code",
   "execution_count": null,
   "metadata": {},
   "outputs": [],
   "source": [
    "!python cnn_train/yolo/yolo_train.py"
   ]
  },
  {
   "cell_type": "code",
   "execution_count": null,
   "metadata": {},
   "outputs": [],
   "source": [
    "# Check if we have the required data structure\n",
    "base_dir = Path('/teamspace/studios/this_studio')\n",
    "train_dir = base_dir / 'downloaded_photos' / 'train'\n",
    "val_dir = base_dir / 'downloaded_photos' / 'val'\n",
    "\n",
    "if train_dir.exists():\n",
    "    train_images = list(train_dir.glob('*.jpeg')) + list(train_dir.glob('*.jpg'))\n",
    "    train_xmls = list(train_dir.glob('*.xml'))\n",
    "    print(f\"Training images: {len(train_images)}\")\n",
    "    print(f\"Training XMLs: {len(train_xmls)}\")\n",
    "\n",
    "if val_dir.exists():\n",
    "    val_images = list(val_dir.glob('*.jpeg')) + list(val_dir.glob('*.jpg'))\n",
    "    val_xmls = list(val_dir.glob('*.xml'))\n",
    "    print(f\"Validation images: {len(val_images)}\")\n",
    "    print(f\"Validation XMLs: {len(val_xmls)}\")\n",
    "\n",
    "\n",
    "# Run the weld extraction script\n",
    "!python cnn_train/cnn/extract_welds.py"
   ]
  },
  {
   "cell_type": "code",
   "execution_count": 3,
   "metadata": {},
   "outputs": [
    {
     "name": "stdout",
     "output_type": "stream",
     "text": [
      "Using device: cuda\n",
      "=== Training ResNet-50 Welding Classifier ===\n",
      "Device: CUDA\n",
      "Using train/validation split (no separate test set)\n",
      "\n",
      "Training Configuration:\n",
      "  epochs: 50\n",
      "  batch_size: 32\n",
      "  patience: 8\n",
      "  save_dir: /teamspace/studios/this_studio/cnn_model/cnn_train/cnn/runs\n",
      "\n",
      "=== Starting Training ===\n",
      "Found 8481 images in /teamspace/studios/this_studio/cnn_model/cnn_train/cnn/extracted_welds/train/good\n",
      "Found 2390 images in /teamspace/studios/this_studio/cnn_model/cnn_train/cnn/extracted_welds/train/bad\n",
      "Found 3749 images in /teamspace/studios/this_studio/cnn_model/cnn_train/cnn/extracted_welds/val/good\n",
      "Found 947 images in /teamspace/studios/this_studio/cnn_model/cnn_train/cnn/extracted_welds/val/bad\n",
      "Total parameters: 25,557,032\n",
      "Trainable parameters before freezing: 25,557,032\n",
      "Trainable parameters after freezing: 22,065,153\n",
      "Model initialized with 22,065,153 trainable parameters\n",
      "\n",
      "=== Starting Training ===\n",
      "Epochs: 50, Batch Size: 32, Patience: 8\n",
      "\n",
      "Epoch 1/50\n",
      "Training:  15%|▏| 51/340 [00:16<01:17,  3.74it/s, batch_loss=0.0394, avg_loss=0.^C\n"
     ]
    }
   ],
   "source": [
    "# Step 3: Train ResNet-50 Binary Classifier\n",
    "!python cnn_train/cnn/welding_cnn.py --mode \"train\""
   ]
  },
  {
   "cell_type": "code",
   "execution_count": 4,
   "metadata": {},
   "outputs": [
    {
     "name": "stdout",
     "output_type": "stream",
     "text": [
      "Using device: cuda\n",
      "Total parameters: 25,557,032\n",
      "Trainable parameters before freezing: 25,557,032\n",
      "Model initialized with 23,510,081 trainable parameters\n",
      "Found 3749 images in /teamspace/studios/this_studio/cnn_model/cnn_train/cnn/extracted_welds/val/good\n",
      "Found 947 images in /teamspace/studios/this_studio/cnn_model/cnn_train/cnn/extracted_welds/val/bad\n",
      "Running evaluation on test data...\n",
      "Evaluating: 100%|█████████████████████████████| 147/147 [00:24<00:00,  6.09it/s]\n",
      "\n",
      "=== Evaluation Results ===\n",
      "AUC-ROC Score: 0.9906\n",
      "PR-AUC Score: 0.9801\n",
      "F1 Score: 0.9727\n",
      "Threshold used: 0.5\n",
      "\n",
      "Classification Report:\n",
      "              precision    recall  f1-score   support\n",
      "\n",
      "        Good       0.99      1.00      0.99      3749\n",
      "         Bad       0.98      0.96      0.97       947\n",
      "\n",
      "    accuracy                           0.99      4696\n",
      "   macro avg       0.99      0.98      0.98      4696\n",
      "weighted avg       0.99      0.99      0.99      4696\n",
      "\n",
      "\n",
      "Confusion Matrix:\n",
      "Predicted:  Good  Bad\n",
      "Good:       3735   14\n",
      "Bad:          37  910\n",
      "Results saved to: /teamspace/studios/this_studio/cnn_model/cnn_train/cnn/resnet_results\n"
     ]
    }
   ],
   "source": [
    "!python cnn_train/cnn/welding_cnn.py --mode \"val\""
   ]
  }
 ],
 "metadata": {
  "language_info": {
   "name": "python"
  }
 },
 "nbformat": 4,
 "nbformat_minor": 2
}
